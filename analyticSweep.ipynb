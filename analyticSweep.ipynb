{
 "cells": [
  {
   "cell_type": "markdown",
   "metadata": {},
   "source": [
    "## Eq. of motion\n",
    "\n",
    "\n",
    "Markert et al. 2001\n",
    "$$\n",
    "\\ddot{X} + 2D\\dot{X} + X = A_0 P(t)\n",
    "$$\n",
    "\n",
    "$$\n",
    "P(t) = \\cos \\varphi(t)\n",
    "$$\n",
    "\n",
    "$$\\varphi(t) = \\frac{\\alpha}{2}t^2 + \\eta_0 t + \\beta$$\n",
    "\n",
    "\n",
    "Envelope curve is $Q(t) = B_1 w(v_1(t)) + B_2 w(v_2(t)) + C_1 e^{v_1^2(t) - v_1(t)^2} + C_2 e^{v_2^2(t) - v_2(t)^2}$"
   ]
  },
  {
   "cell_type": "code",
   "execution_count": 3,
   "metadata": {},
   "outputs": [],
   "source": [
    "from scipy.special import wofz\n",
    "def w(x):\n",
    "    return wofz(x)"
   ]
  },
  {
   "cell_type": "code",
   "execution_count": 12,
   "metadata": {},
   "outputs": [
    {
     "data": {
      "text/plain": [
       "Text(0, 0.5, '$w(X)$')"
      ]
     },
     "execution_count": 12,
     "metadata": {},
     "output_type": "execute_result"
    },
    {
     "data": {
      "image/png": "[encoded data removed]",
      "text/plain": [
       "<Figure size 432x288 with 1 Axes>"
      ]
     },
     "metadata": {
      "needs_background": "light"
     },
     "output_type": "display_data"
    }
   ],
   "source": [
    "x = np.arange(0., 3., 0.1)\n",
    "plt.plot(x, w(x), '-')\n",
    "plt.xlabel('$X$')\n",
    "plt.ylabel('$w(X)$')"
   ]
  },
  {
   "cell_type": "code",
   "execution_count": 76,
   "metadata": {},
   "outputs": [],
   "source": [
    "## Parameters:\n",
    "ipos = 0.\n",
    "ivelocity = 0.\n",
    "\n",
    "D = 0.02\n",
    "alpha = 1e-4\n",
    "eta0 = 0.6\n",
    "A0 = 1.\n",
    "beta = 0.\n",
    "\n",
    "lambda1 = -D + (0+1j)*np.sqrt(1.-D**2)\n",
    "lambda2 = -D - (0+1j)*np.sqrt(1.-D**2)"
   ]
  },
  {
   "cell_type": "code",
   "execution_count": 77,
   "metadata": {},
   "outputs": [],
   "source": [
    "def v1(t):\n",
    "    prefac = -(1+1j)/(2*np.sqrt(alpha))\n",
    "    linear = alpha*t + eta0 + (0+1j)*lambda1\n",
    "    return prefac*linear\n",
    "\n",
    "def v2(t):\n",
    "    prefac = (1+1j)/(2*np.sqrt(alpha))\n",
    "    linear = alpha*t + eta0 + (0+1j)*lambda2\n",
    "    return prefac*linear\n",
    "\n"
   ]
  },
  {
   "cell_type": "code",
   "execution_count": 78,
   "metadata": {},
   "outputs": [],
   "source": [
    "B1 = (1. - 1j)/(4*np.sqrt(1.-D**2))*np.sqrt(np.pi/alpha)*A0\n",
    "B2 = (1. - 1j)/(4*np.sqrt(1.-D**2))*np.sqrt(np.pi/alpha)*A0\n",
    "\n",
    "C1 = (lambda2*ipos - ivelocity)*np.exp(-1j*beta)/(lambda2-lambda1) - B1*w(v1(0))\n",
    "C2 = (lambda1*ipos - ivelocity)*np.exp(-1j*beta)/(lambda1-lambda2) - B2*w(v2(0))\n",
    "\n"
   ]
  },
  {
   "cell_type": "code",
   "execution_count": 79,
   "metadata": {},
   "outputs": [],
   "source": [
    "def Q(t):\n",
    "    return B1*w(v1(t)) + B2*w(v2(t)) + C1*np.exp(v1(0)**2 - v1(t)**2) + C2*np.exp(v2(0)**2 - v2(t)**2)"
   ]
  },
  {
   "cell_type": "code",
   "execution_count": 80,
   "metadata": {},
   "outputs": [],
   "source": [
    "def linramp(t):\n",
    "    return alpha*t + eta0"
   ]
  },
  {
   "cell_type": "code",
   "execution_count": 81,
   "metadata": {},
   "outputs": [
    {
     "data": {
      "text/plain": [
       "[<matplotlib.lines.Line2D at 0x20c848b9dd8>]"
      ]
     },
     "execution_count": 81,
     "metadata": {},
     "output_type": "execute_result"
    },
    {
     "data": {
      "image/png": "[encoded data removed]",
      "text/plain": [
       "<Figure size 432x288 with 1 Axes>"
      ]
     },
     "metadata": {
      "needs_background": "light"
     },
     "output_type": "display_data"
    }
   ],
   "source": [
    "x = np.arange(0., 1/alpha, 1)\n",
    "plt.plot(linramp(x), Q(x), '-o')"
   ]
  }
 ],
 "metadata": {
  "kernelspec": {
   "display_name": "Python 3",
   "language": "python",
   "name": "python3"
  },
  "language_info": {
   "codemirror_mode": {
    "name": "ipython",
    "version": 3
   },
   "file_extension": ".py",
   "mimetype": "text/x-python",
   "name": "python",
   "nbconvert_exporter": "python",
   "pygments_lexer": "ipython3",
   "version": "3.7.3"
  }
 },
 "nbformat": 4,
 "nbformat_minor": 2
}
