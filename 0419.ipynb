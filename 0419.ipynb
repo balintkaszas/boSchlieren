{
 "cells": [
  {
   "cell_type": "markdown",
   "metadata": {},
   "source": [
    "### Apr. 19\n",
    "\n",
    "Non-ramping case\n",
    "1 kg salt, ususal setup\n",
    "\n",
    "h1 = h2 = 8 cm\n",
    "d = 25.5 cm\n",
    "\n",
    "t = 2min"
   ]
  },
  {
   "cell_type": "markdown",
   "metadata": {},
   "source": [
    "0.6 V\n",
    "\n",
    "0.7 V\n",
    "\n",
    "0.75 V\n",
    "\n",
    "0.8 V\n",
    "\n",
    "0.85 V\n",
    "\n",
    "0.9 V\n",
    "\n",
    "1 V\n",
    "\n",
    "1.1 V\n",
    "\n",
    "1.2 V (resonance? )\n",
    "\n",
    "1.25 V (resonance)\n",
    "\n",
    "1.3 V\n",
    "\n",
    "1.35 V\n",
    "\n",
    "1.4 V\n",
    "\n",
    "1.45 V\n",
    "\n",
    "1.5  V\n",
    "\n"
   ]
  },
  {
   "cell_type": "markdown",
   "metadata": {},
   "source": [
    "### Ramping case:\n",
    "\n",
    "\n",
    "fmin = 0.6 V , fmax = 1.6\n",
    "\n",
    "5 sec / 0.01 V  1. vid\n",
    " \n",
    "2 sec / 0.01 V 2 . vid\n",
    "\n",
    "5 sec / 0.01 V 3. vid visszafelé: fmin = 1.8 V fmax = 0.8\n",
    "\n"
   ]
  },
  {
   "cell_type": "markdown",
   "metadata": {},
   "source": [
    "density profile at the end of the experiments\n",
    "\n"
   ]
  },
  {
   "cell_type": "code",
   "execution_count": 2,
   "metadata": {},
   "outputs": [],
   "source": [
    "d = [51.7, 51.7, 51.6, 51.1, 50.4, 49.1, 48.8, 45.0, 33.4, 25.3, 9.14, 1.2, 0.9, 0.6, 0.5, 0.5, 0.5, 0.]"
   ]
  },
  {
   "cell_type": "code",
   "execution_count": 3,
   "metadata": {},
   "outputs": [
    {
     "data": {
      "text/plain": [
       "18"
      ]
     },
     "execution_count": 3,
     "metadata": {},
     "output_type": "execute_result"
    }
   ],
   "source": [
    "len(d)"
   ]
  },
  {
   "cell_type": "markdown",
   "metadata": {},
   "source": [
    "|0.7 V| 0:34 | 0:39|\n",
    "|0.75 V| 0:3| 0:2|\n",
    "|0.8 V| 0:4| 0:7|\n",
    "|0.85V |0:3| 0:2|\n",
    "|0.9V| 0:3|0:6|\n",
    "|1V| 0:3| masodik\n",
    "|1.1V|0:3|\n",
    "|1.2V|0:2|\n",
    "|1.25V|0:2|\n",
    "|1.3V|0:2| //itt kicsit elcsuszott az interface\n",
    "|1.35V|0:2|\n",
    "|1.4V|0:3|\n",
    "|1.45V| 0:2|\n",
    "|1.5V|0:3|\n",
    "|1.6V|0:1|\n",
    "\n",
    "|lassu rampa| 0:16| 'oke, akkor megy'|\n",
    "|gyors rampa| 0:2| '2 masodpercenkent tekerek egyet'|"
   ]
  },
  {
   "cell_type": "code",
   "execution_count": 4,
   "metadata": {},
   "outputs": [],
   "source": [
    "interface_vids = ['07V', '075V', '08V', '085V', '09V', '1V' , '11V', '12V', '125V', '13V', '135V', '14V', '145V', '15V','16V', 'rampSlow', 'quickRamp']"
   ]
  },
  {
   "cell_type": "code",
   "execution_count": null,
   "metadata": {},
   "outputs": [],
   "source": [
    "vidcap = cv2.VideoCapture('water.mp4')\n",
    "success,image = vidcap.read()\n",
    "count = 0\n",
    "while success:\n",
    "  cv2.imwrite(\"water/frame%d.jpg\" % count, image)     # save frame as JPEG file      \n",
    "  success,image = vidcap.read()\n",
    "  print('Read a new frame: ', count )\n",
    "  count += 1"
   ]
  },
  {
   "cell_type": "markdown",
   "metadata": {},
   "source": [
    "#### Data analysis\n",
    "\n",
    "- Each video is 2 minutes long\n",
    "- split the video to frames (grayscale)\n",
    "- filter outliers\n",
    "- Syncronize timeseries\n",
    "- FT - avg on driving timeseries -> single maximal frequency\n",
    "- Difference between surface deviation and interface deviation\n",
    "- FT on this timeseries -> Single maximal amplitude\n",
    "- Same with interface width"
   ]
  },
  {
   "cell_type": "code",
   "execution_count": null,
   "metadata": {},
   "outputs": [],
   "source": []
  }
 ],
 "metadata": {
  "kernelspec": {
   "display_name": "Python 3",
   "language": "python",
   "name": "python3"
  },
  "language_info": {
   "codemirror_mode": {
    "name": "ipython",
    "version": 3
   },
   "file_extension": ".py",
   "mimetype": "text/x-python",
   "name": "python",
   "nbconvert_exporter": "python",
   "pygments_lexer": "ipython3",
   "version": "3.7.3"
  }
 },
 "nbformat": 4,
 "nbformat_minor": 2
}
