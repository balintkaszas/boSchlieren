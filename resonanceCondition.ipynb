{
 "cells": [
  {
   "cell_type": "markdown",
   "metadata": {},
   "source": [
    "# Computation of resonance frequencies"
   ]
  },
  {
   "cell_type": "markdown",
   "metadata": {},
   "source": [
    "## Density profiles \n",
    "\n",
    "$\\rho = 0.0000000000922584\\cdot c^4 - 0.0000000294733\\cdot c^3 + 0.00000419348 \\cdot x^2 + 0.000322098\\cdot x + 0.999075$"
   ]
  },
  {
   "cell_type": "code",
   "execution_count": 1,
   "metadata": {},
   "outputs": [],
   "source": [
    "import numpy as np\n",
    "import matplotlib.pyplot as plt\n",
    "\n",
    "d = [51.7, 51.7, 51.6, 51.1, 50.4, 49.1, 48.8, 45.0, 33.4, 25.3, 9.14, 1.2, 0.9, 0.6, 0.5, 0.5, 0.5]\n",
    "densities29 = [52.0, 51.8, 51.9, 51.2, 50.9, 50.6, 50.2, 33.3, 13., 9., 0.7, 0.8, 0.7, 0.6, 0.5, 0.1, 0.1]\n",
    "densities29_2 = [52.4, 52.7, 52.6, 52.2, 52.0, 51.6, 50.8, 37.1, 13., 2., 1., 0.8, 0.7, 0.6, 0.5, 0.4, 0.1]\n",
    "\n",
    "def cond_dens(x):\n",
    "    return x**4*0.0000000000922584+x**3*(-0.0000000294733)+x**2*0.00000419348+x*0.000322098+0.999075\n",
    "d = np.array(d)\n",
    "densities29 = np.array(densities29)\n",
    "densities29_2 = np.array(densities29_2)"
   ]
  },
  {
   "cell_type": "code",
   "execution_count": 2,
   "metadata": {},
   "outputs": [
    {
     "data": {
      "image/png": "[encoded data removed]",
      "text/plain": [
       "<Figure size 432x288 with 1 Axes>"
      ]
     },
     "metadata": {
      "needs_background": "light"
     },
     "output_type": "display_data"
    }
   ],
   "source": [
    "h = np.arange(1., 17., 1.)/100.\n",
    "plt.plot(cond_dens(d[:-1])*1000, h, 'o-')\n",
    "plt.plot(cond_dens(densities29_2[:-1])*1000, h, 'o-')\n",
    "plt.ylabel('$z$ [m]', rotation = 0, labelpad = 20, fontsize= 13)\n",
    "plt.xlabel(r'$\\rho$ [kg/m$^3$]', fontsize=13)\n",
    "plt.savefig('dens_.pdf', bbox_inches='tight')"
   ]
  },
  {
   "cell_type": "markdown",
   "metadata": {},
   "source": [
    "## 2 layers\n",
    "\n",
    "$c = \\sqrt{\\frac{g'H_1H_2}{H}}$\n",
    "\n",
    "\n",
    "$\\frac{c}{2d} = f$\n",
    "\n",
    "$\\omega = \\sqrt{\\frac{g'H_1H_2}{H}} \\frac{d}{4\\pi}$"
   ]
  },
  {
   "cell_type": "code",
   "execution_count": 3,
   "metadata": {},
   "outputs": [],
   "source": [
    "def twoLayerSpeed(rho1, rho2, h1, h2):\n",
    "    h = h1 + h2\n",
    "    drho = np.abs(rho2 - rho1)\n",
    "    gPrime = drho * 9.81 / (rho2)\n",
    "    return np.sqrt(gPrime*h1*h2/h)"
   ]
  },
  {
   "cell_type": "code",
   "execution_count": 4,
   "metadata": {},
   "outputs": [
    {
     "name": "stdout",
     "output_type": "stream",
     "text": [
      "f_0 =  0.18392247244670676  Hz\n"
     ]
    }
   ],
   "source": [
    "h1 = 0.08\n",
    "h2 = 0.08\n",
    "rho1 = 1000*cond_dens(d)[6]\n",
    "rho2 = 1000*cond_dens(d)[11]\n",
    "freqTwolayer1 = twoLayerSpeed(rho1, rho2, h1, h2)/(2*0.255)\n",
    "print(\"f_0 = \", freqTwolayer1, \" Hz\")"
   ]
  },
  {
   "cell_type": "code",
   "execution_count": 37,
   "metadata": {},
   "outputs": [
    {
     "name": "stdout",
     "output_type": "stream",
     "text": [
      "1021.8779063565064\n",
      "999.4675054726446\n"
     ]
    }
   ],
   "source": [
    "print(rho1)\n",
    "print(rho2)"
   ]
  },
  {
   "cell_type": "markdown",
   "metadata": {},
   "source": [
    "$\\omega = ck = \\sqrt{\\frac{gk(\\rho_2 - \\rho_1)}{\\rho_1 \\coth (k H_1) + \\rho_2 \\coth (k H_2)}}$\n",
    "\n",
    "$c = \\sqrt{\\frac{g(\\rho_2 - \\rho_1)}{\\rho_1 k \\coth (k H_1) + \\rho_2 k \\coth (k H_2)}}$"
   ]
  },
  {
   "cell_type": "code",
   "execution_count": 5,
   "metadata": {},
   "outputs": [],
   "source": [
    "def twoLayerSpeedFull(rho1, rho2, h1, h2, k):\n",
    "    numerator = 9.81*(np.abs(rho2-rho1))\n",
    "    denom = rho1*k/np.tanh(k*h1) + rho2*k/np.tanh(k*h2)\n",
    "    return np.sqrt(numerator/denom)\n"
   ]
  },
  {
   "cell_type": "code",
   "execution_count": 6,
   "metadata": {},
   "outputs": [
    {
     "name": "stdout",
     "output_type": "stream",
     "text": [
      "f_1 =  0.1601309198535943  Hz\n"
     ]
    }
   ],
   "source": [
    "h1 = 0.08\n",
    "h2 = 0.08\n",
    "k = np.pi/0.255\n",
    "rho1 = 1000*cond_dens(d)[6]\n",
    "rho2 = 1000*cond_dens(d)[11]\n",
    "freqTwolayer2 = twoLayerSpeedFull(rho1, rho2, h1, h2, k )/(2*0.255)\n",
    "print(\"f_1 = \", freqTwolayer2, \" Hz\")"
   ]
  },
  {
   "cell_type": "code",
   "execution_count": 7,
   "metadata": {},
   "outputs": [],
   "source": [
    "def bouyantFrq(deriv, rho0):\n",
    "    return np.sqrt(np.abs((9.81*deriv)/rho0))\n",
    "h3 = 0.065\n",
    "h1 = 0.065\n",
    "h2 = 0.03\n",
    "k = np.pi/(0.255) ## d = 25.5 cm"
   ]
  },
  {
   "cell_type": "code",
   "execution_count": 38,
   "metadata": {},
   "outputs": [
    {
     "name": "stdout",
     "output_type": "stream",
     "text": [
      "2.200189842054339\n"
     ]
    }
   ],
   "source": [
    "print(bouyantFrq(drho3, 1000.))"
   ]
  },
  {
   "cell_type": "code",
   "execution_count": 8,
   "metadata": {},
   "outputs": [],
   "source": [
    "def lin(x, a, b):\n",
    "    return a*x + b\n",
    "from scipy.optimize import curve_fit\n",
    "x = np.arange(0.07, 0.12, 0.01)\n",
    "y = 1000*cond_dens(d)[6:11]\n",
    "popt, pcov = curve_fit(lin, x, y)\n"
   ]
  },
  {
   "cell_type": "code",
   "execution_count": 9,
   "metadata": {},
   "outputs": [],
   "source": [
    "drho3 =popt[0]\n",
    "\n",
    "def K_i(x, N):\n",
    "    return np.sqrt(np.array(N**2/x**2 - k**2))\n",
    "T1 = k/np.tanh(h1*k)\n",
    "T3 = k/np.tanh(h2*k)\n",
    "def T_i(x, h, N):\n",
    "    return K_i(x, N)/np.tan(K_i(x, N)*h)\n",
    "def lhs(x):\n",
    "    N2 = bouyantFrq(drho3, 1000.)\n",
    "    return K_i(x, N2)**2 - T1*T_i(x, h2, N2) + T1*T3 -T3*T_i(x, h2, N2) \n",
    "from scipy import optimize\n",
    "root = optimize.newton(lhs, 0.1)"
   ]
  },
  {
   "cell_type": "code",
   "execution_count": 10,
   "metadata": {},
   "outputs": [
    {
     "data": {
      "text/plain": [
       "[<matplotlib.lines.Line2D at 0x1a594da9278>]"
      ]
     },
     "execution_count": 10,
     "metadata": {},
     "output_type": "execute_result"
    },
    {
     "data": {
      "image/png": "[encoded data removed]",
      "text/plain": [
       "<Figure size 432x288 with 1 Axes>"
      ]
     },
     "metadata": {
      "needs_background": "light"
     },
     "output_type": "display_data"
    }
   ],
   "source": [
    "plt.plot(x, y, 'o')"
   ]
  },
  {
   "cell_type": "code",
   "execution_count": 11,
   "metadata": {},
   "outputs": [
    {
     "name": "stdout",
     "output_type": "stream",
     "text": [
      "f_3 =  0.1455161079948468  Hz\n"
     ]
    }
   ],
   "source": [
    "from scipy import optimize\n",
    "root = optimize.newton(lhs, 0.1)\n",
    "res = root/(2*0.255)\n",
    "print(\"f_3 = \", res, \" Hz\")"
   ]
  },
  {
   "cell_type": "markdown",
   "metadata": {},
   "source": [
    "Dispersion relations"
   ]
  },
  {
   "cell_type": "code",
   "execution_count": 39,
   "metadata": {},
   "outputs": [],
   "source": [
    "threelayerspeeds = []\n",
    "for k in ks:\n",
    "\n",
    "    root = optimize.newton(lhs, 0.05)\n",
    "    threelayerspeeds.append(root)\n",
    "threelayerspeeds= np.array(threelayerspeeds)"
   ]
  },
  {
   "cell_type": "code",
   "execution_count": 36,
   "metadata": {},
   "outputs": [
    {
     "name": "stderr",
     "output_type": "stream",
     "text": [
      "C:\\ProgramData\\Anaconda3\\lib\\site-packages\\ipykernel_launcher.py:3: RuntimeWarning: invalid value encountered in true_divide\n",
      "  This is separate from the ipykernel package so we can avoid doing imports until\n"
     ]
    },
    {
     "data": {
      "image/png": "[encoded data removed]",
      "text/plain": [
       "<Figure size 432x288 with 1 Axes>"
      ]
     },
     "metadata": {
      "needs_background": "light"
     },
     "output_type": "display_data"
    }
   ],
   "source": [
    "ks = np.arange(0., 44.0, 0.1)\n",
    "plt.plot([0, 40.], [twoLayerSpeed(rho1, rho2, h1, h2), twoLayerSpeed(rho1, rho2, h1, h2)], '--', c='blue', label='$c_2(k=0)$')\n",
    "\n",
    "plt.plot(ks, twoLayerSpeedFull(rho1, rho2, h1, h2, ks), '-.', c='black', label='$c_2(k)$')\n",
    "plt.plot(ks, threelayerspeeds, '-', c='Crimson', linewidth=2.5, label='$c^{(3)}(k)$')\n",
    "#plt.plot([np.pi/0.255, np.pi/0.255], [0.04, 0.09], '--')\n",
    "plt.legend(loc='upper right')\n",
    "plt.ylim(0.04, 0.09)\n",
    "plt.xlabel('$k$ [1$/$m]')\n",
    "plt.ylabel('$c$ [m$/$s]')\n",
    "\n",
    "plt.xlim(0., 40.)\n",
    "plt.savefig('disprel_.png', bbox_inches='tight')"
   ]
  },
  {
   "cell_type": "code",
   "execution_count": null,
   "metadata": {},
   "outputs": [],
   "source": []
  }
 ],
 "metadata": {
  "kernelspec": {
   "display_name": "Python 3",
   "language": "python",
   "name": "python3"
  },
  "language_info": {
   "codemirror_mode": {
    "name": "ipython",
    "version": 3
   },
   "file_extension": ".py",
   "mimetype": "text/x-python",
   "name": "python",
   "nbconvert_exporter": "python",
   "pygments_lexer": "ipython3",
   "version": "3.7.3"
  }
 },
 "nbformat": 4,
 "nbformat_minor": 2
}
